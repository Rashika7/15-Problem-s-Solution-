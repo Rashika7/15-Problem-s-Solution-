{
 "cells": [
  {
   "cell_type": "markdown",
   "id": "b642efd1",
   "metadata": {},
   "source": [
    "1) Write a fun which will take string and return a len of string without using inbuilt fun len."
   ]
  },
  {
   "cell_type": "code",
   "execution_count": 1,
   "id": "4cae6a57",
   "metadata": {},
   "outputs": [
    {
     "data": {
      "text/plain": [
       "7"
      ]
     },
     "execution_count": 1,
     "metadata": {},
     "output_type": "execute_result"
    }
   ],
   "source": [
    "def f1(a):\n",
    "     if type(a)==str:\n",
    "        c=0\n",
    "        for i in a:\n",
    "            c=c+1\n",
    "        return c\n",
    "f1('rashika')"
   ]
  },
  {
   "cell_type": "markdown",
   "id": "491bdc5e",
   "metadata": {},
   "source": [
    "2) Write a fun which will give(print) an index of all premitive element."
   ]
  },
  {
   "cell_type": "code",
   "execution_count": 2,
   "id": "0444aeed",
   "metadata": {},
   "outputs": [
    {
     "name": "stdout",
     "output_type": "stream",
     "text": [
      "the  index  0\n",
      "for  index  1\n",
      "1  index  2\n",
      "2  index  3\n",
      "3  index  4\n"
     ]
    }
   ],
   "source": [
    "def f2(l):\n",
    "    if type(l)==list or type(l)==tuple or type(l)==str:\n",
    "        for i in range(len(l)):\n",
    "            print(l[i], ' index ' ,i)\n",
    "f2(['the','for',1,2,3])"
   ]
  },
  {
   "cell_type": "markdown",
   "id": "4798b3f5",
   "metadata": {},
   "source": [
    "3) Write a fun which takes input as a dict and gives list of all the values, even in case of two level nested dictionary."
   ]
  },
  {
   "cell_type": "code",
   "execution_count": 3,
   "id": "3f7655ef",
   "metadata": {},
   "outputs": [],
   "source": [
    "def f3(d):\n",
    "    L=[]\n",
    "    if type(d)==dict:\n",
    "        for i in d:\n",
    "            if type(d[i])==dict:\n",
    "                L.extend(d[i].values())\n",
    "            else:\n",
    "                L.append(d[i])\n",
    "    return L"
   ]
  },
  {
   "cell_type": "code",
   "execution_count": 4,
   "id": "b3b4b18d",
   "metadata": {},
   "outputs": [
    {
     "data": {
      "text/plain": [
       "[56, 'a1', 't', 'u', 'v', 'h', 'j', 'l', 'n']"
      ]
     },
     "execution_count": 4,
     "metadata": {},
     "output_type": "execute_result"
    }
   ],
   "source": [
    "f3({1: 56, 2: 'a1',3:{\"a\":\"t\",\"b\":\"u\",\"c\":\"v\",\"d\":\"h\",\"i\":\"j\",\"k\":\"l\",\"m\":\"n\"}})"
   ]
  },
  {
   "cell_type": "markdown",
   "id": "a8595b3e",
   "metadata": {},
   "source": [
    "4) Write a fun which takes another function as an input and return output."
   ]
  },
  {
   "cell_type": "code",
   "execution_count": 5,
   "id": "f4d77376",
   "metadata": {},
   "outputs": [],
   "source": [
    "def f4(n):\n",
    "    return list(range(n))\n",
    "def f41(func):\n",
    "    if type(func)==list:\n",
    "        l=[]\n",
    "        for i in func:\n",
    "            l.append(i*i)\n",
    "        return l"
   ]
  },
  {
   "cell_type": "code",
   "execution_count": 6,
   "id": "e8d6c89d",
   "metadata": {},
   "outputs": [
    {
     "data": {
      "text/plain": [
       "[0, 1, 4, 9, 16, 25, 36, 49, 64, 81]"
      ]
     },
     "execution_count": 6,
     "metadata": {},
     "output_type": "execute_result"
    }
   ],
   "source": [
    "f41(f4(10))"
   ]
  },
  {
   "cell_type": "code",
   "execution_count": 7,
   "id": "9f385906",
   "metadata": {},
   "outputs": [],
   "source": [
    "def f4(n):\n",
    "    return list(range(n))\n",
    "def f41(func):\n",
    "    if type(func)==list:\n",
    "        l=[]\n",
    "        for i in func:\n",
    "            if i%2==0:\n",
    "                l.append(i*i)\n",
    "            else:\n",
    "                pass\n",
    "        return l"
   ]
  },
  {
   "cell_type": "code",
   "execution_count": 8,
   "id": "bbb4da07",
   "metadata": {},
   "outputs": [
    {
     "data": {
      "text/plain": [
       "[0, 4, 16]"
      ]
     },
     "execution_count": 8,
     "metadata": {},
     "output_type": "execute_result"
    }
   ],
   "source": [
    "f41(f4(5))"
   ]
  },
  {
   "cell_type": "markdown",
   "id": "ea7e9b71",
   "metadata": {},
   "source": [
    "5) Write a function which will take multiple list as a input and output will be concatenation of all the elements of lists."
   ]
  },
  {
   "cell_type": "code",
   "execution_count": 9,
   "id": "40b23c2d",
   "metadata": {},
   "outputs": [
    {
     "data": {
      "text/plain": [
       "[1, 2, 3, 4, 5, 'a', 'b', 'c', 'd1', 'd2', 'rashi', 'gupta', 31, 32]"
      ]
     },
     "execution_count": 9,
     "metadata": {},
     "output_type": "execute_result"
    }
   ],
   "source": [
    "def f5(*args):\n",
    "    l=[]\n",
    "    for i in args:\n",
    "        if type(i)==list:\n",
    "            l=l+i\n",
    "    return l\n",
    "f5([1,2,3,4,5],['a','b','c'],['d1','d2'],['rashi','gupta',31,32])"
   ]
  },
  {
   "cell_type": "markdown",
   "id": "6fb0ef69",
   "metadata": {},
   "source": [
    "6) Write a function which takes a list as an input return an index of each element like a inbuilt index function but even if we have repetitive element it should return index of those elements."
   ]
  },
  {
   "cell_type": "code",
   "execution_count": 10,
   "id": "7390e7d3",
   "metadata": {},
   "outputs": [],
   "source": [
    "def f6(l6):\n",
    "    l=[]\n",
    "    if type(l6)==list:\n",
    "        for i in range(len(l6)):\n",
    "            l.append(f'index {i} of {l6[i]}')\n",
    "    return l"
   ]
  },
  {
   "cell_type": "code",
   "execution_count": 11,
   "id": "9f2a602e",
   "metadata": {},
   "outputs": [
    {
     "data": {
      "text/plain": [
       "['index 0 of 1',\n",
       " 'index 1 of 2',\n",
       " 'index 2 of 3',\n",
       " 'index 3 of 4',\n",
       " 'index 4 of 5',\n",
       " 'index 5 of r',\n",
       " 'index 6 of g']"
      ]
     },
     "execution_count": 11,
     "metadata": {},
     "output_type": "execute_result"
    }
   ],
   "source": [
    "f6([1,2,3,4,5,\"r\",\"g\"])"
   ]
  },
  {
   "cell_type": "markdown",
   "id": "a9552700",
   "metadata": {},
   "source": [
    "7) Write a function which will return list of all the filename from a directory."
   ]
  },
  {
   "cell_type": "code",
   "execution_count": 12,
   "id": "20e2ce38",
   "metadata": {},
   "outputs": [],
   "source": [
    "def f7(path):\n",
    "    import os\n",
    "    return os.listdir(path)"
   ]
  },
  {
   "cell_type": "code",
   "execution_count": 13,
   "id": "0d497633",
   "metadata": {},
   "outputs": [
    {
     "data": {
      "text/plain": [
       "['.astropy',\n",
       " '.conda',\n",
       " '.condarc',\n",
       " '.continuum',\n",
       " '.gitconfig',\n",
       " '.idlerc',\n",
       " '.ipynb_checkpoints',\n",
       " '.ipython',\n",
       " '.jupyter',\n",
       " '.matplotlib',\n",
       " '3D Objects',\n",
       " 'anaconda3',\n",
       " 'AppData',\n",
       " 'Application Data',\n",
       " 'Assignment 2.ipynb',\n",
       " 'Assignment 3.ipynb',\n",
       " 'Assignment 4.ipynb',\n",
       " 'Assignment 5.ipynb',\n",
       " 'Assignment 6.ipynb',\n",
       " 'Assignment 9.ipynb',\n",
       " 'BASIC P1.ipynb',\n",
       " 'Basic P2.ipynb',\n",
       " 'BASIC P3.ipynb',\n",
       " 'Capture.PNG',\n",
       " 'cars.PNG',\n",
       " 'Codes for further use.ipynb',\n",
       " 'Codes for further use1.ipynb',\n",
       " 'Contacts',\n",
       " 'Cookies',\n",
       " 'DCOM305_DMGT310_ENTREPRENEURSHIP_AND_SMALL_BUSINESS_MANAGEMENT.rar',\n",
       " 'Desktop',\n",
       " 'Documents',\n",
       " 'Downloads',\n",
       " 'F1.ipynb',\n",
       " 'F2.ipynb',\n",
       " 'Favorites',\n",
       " 'file 1.pdf',\n",
       " 'file 4.pdf',\n",
       " 'file 5.pdf',\n",
       " 'file-sample.doc',\n",
       " 'glass.data',\n",
       " 'hfile.pdf',\n",
       " 'Inheritance of class.ipynb',\n",
       " 'IntelGraphicsProfiles',\n",
       " 'JGT.ipynb',\n",
       " 'job post.PNG',\n",
       " 'Links',\n",
       " 'Local Settings',\n",
       " 'm.pdf',\n",
       " 'MicrosoftEdgeBackups',\n",
       " 'Music',\n",
       " 'My Documents',\n",
       " 'mysql-workbench-community-8.0.28-winx64.msi',\n",
       " 'NetHood',\n",
       " 'newfile1.pdf',\n",
       " 'newfile4.pdf',\n",
       " 'newnewnfile.pdf',\n",
       " 'NTUSER.DAT',\n",
       " 'ntuser.dat.LOG1',\n",
       " 'ntuser.dat.LOG2',\n",
       " 'NTUSER.DAT{53b39e88-18c4-11ea-a811-000d3aa4692b}.TM.blf',\n",
       " 'NTUSER.DAT{53b39e88-18c4-11ea-a811-000d3aa4692b}.TMContainer00000000000000000001.regtrans-ms',\n",
       " 'NTUSER.DAT{53b39e88-18c4-11ea-a811-000d3aa4692b}.TMContainer00000000000000000002.regtrans-ms',\n",
       " 'ntuser.ini',\n",
       " 'OneDrive',\n",
       " 'peacock.jpg',\n",
       " 'Pictures',\n",
       " 'Postman',\n",
       " 'PrintHood',\n",
       " 'PycharmProjects',\n",
       " 'Python Task.ipynb',\n",
       " 'Python Test.ipynb',\n",
       " 'python1.txt',\n",
       " 'pythonfl',\n",
       " \"Rashika's resume (DA).pdf\",\n",
       " 'Recent',\n",
       " 'sample.pdf',\n",
       " 'Saved Games',\n",
       " 'Searches',\n",
       " 'SendTo',\n",
       " 'Start Menu',\n",
       " 'Templates',\n",
       " 'test.log',\n",
       " 'test.py',\n",
       " 'test21.txt',\n",
       " 'TESTFILE.py',\n",
       " 'Tracing',\n",
       " 'Tracker.ipynb',\n",
       " 'Untitled.ipynb',\n",
       " 'Untitled1.ipynb',\n",
       " 'Untitled2.ipynb',\n",
       " 'Untitled3.ipynb',\n",
       " 'Untitled4.ipynb',\n",
       " 'Untitled5.ipynb',\n",
       " 'Videos',\n",
       " 'Xplode_Dynamic.mp4',\n",
       " '__pycache__']"
      ]
     },
     "execution_count": 13,
     "metadata": {},
     "output_type": "execute_result"
    }
   ],
   "source": [
    "f7('C:\\\\Users\\\\Rashika')"
   ]
  },
  {
   "cell_type": "code",
   "execution_count": 14,
   "id": "c6a0af30",
   "metadata": {},
   "outputs": [
    {
     "data": {
      "text/plain": [
       "['Untitled.ipynb', 'Untitled1.ipynb', 'Untitled2.ipynb']"
      ]
     },
     "execution_count": 14,
     "metadata": {},
     "output_type": "execute_result"
    }
   ],
   "source": [
    "f7('C:\\\\Users\\\\Rashika\\\\pythonfl')"
   ]
  },
  {
   "cell_type": "markdown",
   "id": "23f48f1c",
   "metadata": {},
   "source": [
    "8) Write a function which show system configuration."
   ]
  },
  {
   "cell_type": "code",
   "execution_count": 15,
   "id": "1f8cddba",
   "metadata": {},
   "outputs": [
    {
     "data": {
      "text/plain": [
       "uname_result(system='Windows', node='DESKTOP-LAUSENN', release='10', version='10.0.19041', machine='AMD64')"
      ]
     },
     "execution_count": 15,
     "metadata": {},
     "output_type": "execute_result"
    }
   ],
   "source": [
    "def f8():\n",
    "    import platform as pl\n",
    "    return pl.uname()\n",
    "f8()"
   ]
  },
  {
   "cell_type": "markdown",
   "id": "9c3f16ad",
   "metadata": {},
   "source": [
    "9) Write a function which shows date and time."
   ]
  },
  {
   "cell_type": "code",
   "execution_count": 16,
   "id": "5e6c3285",
   "metadata": {},
   "outputs": [
    {
     "data": {
      "text/plain": [
       "'The date is 2022-2-5 and time is 23:35:36'"
      ]
     },
     "execution_count": 16,
     "metadata": {},
     "output_type": "execute_result"
    }
   ],
   "source": [
    "def f9():\n",
    "    import subprocess as sb\n",
    "    from subprocess import time\n",
    "    a= time.localtime()\n",
    "    date =str(a[0])+'-'+str(a[1])+'-'+str(a[2])\n",
    "    time =str(a[3])+':'+str(a[4])+':'+str(a[5])\n",
    "    return f'The date is {date} and time is {time}'\n",
    "f9()"
   ]
  },
  {
   "cell_type": "markdown",
   "id": "30e45a7a",
   "metadata": {},
   "source": [
    "10) Write a function which read and show a image file."
   ]
  },
  {
   "cell_type": "code",
   "execution_count": null,
   "id": "1ded9f25",
   "metadata": {},
   "outputs": [
    {
     "name": "stdout",
     "output_type": "stream",
     "text": [
      "enter any file with any extension name:peacock.jpg\n"
     ]
    }
   ],
   "source": [
    "def f10(filename):\n",
    "    import PIL\n",
    "    from PIL import Image\n",
    "    img=Image.open(filename,'r')\n",
    "    return display(img)\n",
    "file_name=input('enter any file with any extension name:')\n",
    "f10(file_name)"
   ]
  },
  {
   "cell_type": "code",
   "execution_count": null,
   "id": "cf30315d",
   "metadata": {},
   "outputs": [],
   "source": []
  },
  {
   "cell_type": "code",
   "execution_count": null,
   "id": "3d2371e7",
   "metadata": {},
   "outputs": [],
   "source": []
  }
 ],
 "metadata": {
  "kernelspec": {
   "display_name": "Python 3 (ipykernel)",
   "language": "python",
   "name": "python3"
  },
  "language_info": {
   "codemirror_mode": {
    "name": "ipython",
    "version": 3
   },
   "file_extension": ".py",
   "mimetype": "text/x-python",
   "name": "python",
   "nbconvert_exporter": "python",
   "pygments_lexer": "ipython3",
   "version": "3.9.7"
  }
 },
 "nbformat": 4,
 "nbformat_minor": 5
}
