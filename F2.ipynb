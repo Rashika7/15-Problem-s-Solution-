{
 "cells": [
  {
   "cell_type": "markdown",
   "id": "f0d8337c",
   "metadata": {},
   "source": [
    "11) Write a function which can show and play video file."
   ]
  },
  {
   "cell_type": "code",
   "execution_count": 1,
   "id": "0b2cac52",
   "metadata": {},
   "outputs": [],
   "source": [
    "def ff(path):\n",
    "    from os import startfile\n",
    "    startfile(path)\n",
    "    \n",
    "ff('C:\\\\Users\\\\Rashika\\\\Xplode_Dynamic.mp4')"
   ]
  },
  {
   "cell_type": "markdown",
   "id": "8ca08f85",
   "metadata": {},
   "source": [
    "12) Write a function which shutdown system."
   ]
  },
  {
   "cell_type": "code",
   "execution_count": null,
   "id": "07bcd2b0",
   "metadata": {},
   "outputs": [],
   "source": [
    "def f12():\n",
    "    import os\n",
    "    os.system('shutdown /s /t 1')\n",
    "f12()"
   ]
  },
  {
   "cell_type": "markdown",
   "id": "ac1aa0de",
   "metadata": {},
   "source": [
    "13) Write a function to read a complete PDf file."
   ]
  },
  {
   "cell_type": "code",
   "execution_count": 2,
   "id": "45c11d0a",
   "metadata": {},
   "outputs": [],
   "source": [
    "import PyPDF2 as pdf"
   ]
  },
  {
   "cell_type": "code",
   "execution_count": 3,
   "id": "1be92d69",
   "metadata": {},
   "outputs": [
    {
     "name": "stdout",
     "output_type": "stream",
     "text": [
      "enter the pdf file namesample\n",
      "<_io.BufferedReader name='sample.pdf'>\n",
      " A Simple PDF File  This is a small demonstration .pdf file -  just for use in the Virtual Mechanics tutorials. More text. And more  text. And more text. And more text. And more text.  And more text. And more text. And more text. And more text. And more  text. And more text. Boring, zzzzz. And more text. And more text. And  more text. And more text. And more text. And more text. And more text.  And more text. And more text.  And more text. And more text. And more text. And more text. And more  text. And more text. And more text. Even more. Continued on page 2 ...\n"
     ]
    }
   ],
   "source": [
    "def f13(filename):\n",
    "    import PyPDF2 as pdf\n",
    "    f=open(filename+'.pdf','rb')\n",
    "    print(f)\n",
    "    f_read=pdf.PdfFileReader(f)\n",
    "    f_page=f_read.getPage(0)\n",
    "    print(f_page.extractText())\n",
    "    f.close()\n",
    "filename=input('enter the pdf file name')\n",
    "f13(filename)"
   ]
  },
  {
   "cell_type": "markdown",
   "id": "f759bc2a",
   "metadata": {},
   "source": [
    "14) Write a function by which can print an ip address of system."
   ]
  },
  {
   "cell_type": "code",
   "execution_count": 4,
   "id": "e688c4fb",
   "metadata": {},
   "outputs": [
    {
     "name": "stdout",
     "output_type": "stream",
     "text": [
      "system name is DESKTOP-LAUSENN and ip address is 192.168.1.6\n"
     ]
    }
   ],
   "source": [
    "def f14():\n",
    "    import socket\n",
    "    name=socket.gethostname()\n",
    "    IP_address=socket.gethostbyname(name)\n",
    "    print(f\"system name is {name} and ip address is {IP_address}\")\n",
    "f14()"
   ]
  },
  {
   "cell_type": "markdown",
   "id": "5b12acb7",
   "metadata": {},
   "source": [
    "15) Write a function to append two PDF files."
   ]
  },
  {
   "cell_type": "code",
   "execution_count": 5,
   "id": "a1faea76",
   "metadata": {},
   "outputs": [],
   "source": [
    "def f15(p1,p2,p3):\n",
    "    from PyPDF2 import PdfFileMerger\n",
    "    file=[p1,p2]\n",
    "    merger=PdfFileMerger()\n",
    "    for pdf in file:\n",
    "        merger.append(open(pdf,'rb'))\n",
    "    with open(outfile_path,'wb') as fileout:\n",
    "        merger.write(fileout)"
   ]
  },
  {
   "cell_type": "code",
   "execution_count": 6,
   "id": "367db0a2",
   "metadata": {},
   "outputs": [],
   "source": [
    "outfile_path='C:/Users/Rashika/newfile4.pdf'\n",
    "f15('C:/Users/Rashika/file 4.pdf'\n",
    ",'C:/Users/Rashika/file 5.pdf'\n",
    ",outfile_path)"
   ]
  },
  {
   "cell_type": "markdown",
   "id": "f0d0c79d",
   "metadata": {},
   "source": [
    "PDF merger code has successfully executed, one pdf file is created in the current directory."
   ]
  }
 ],
 "metadata": {
  "kernelspec": {
   "display_name": "Python 3 (ipykernel)",
   "language": "python",
   "name": "python3"
  },
  "language_info": {
   "codemirror_mode": {
    "name": "ipython",
    "version": 3
   },
   "file_extension": ".py",
   "mimetype": "text/x-python",
   "name": "python",
   "nbconvert_exporter": "python",
   "pygments_lexer": "ipython3",
   "version": "3.9.7"
  }
 },
 "nbformat": 4,
 "nbformat_minor": 5
}
